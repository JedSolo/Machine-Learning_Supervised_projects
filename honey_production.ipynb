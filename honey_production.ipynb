{
 "cells": [
  {
   "cell_type": "code",
   "execution_count": null,
   "id": "b8811362",
   "metadata": {},
   "outputs": [],
   "source": [
    "import codecademylib3_seaborn\n",
    "import pandas as pd\n",
    "import matplotlib.pyplot as plt\n",
    "import numpy as np\n",
    "from sklearn import linear_model\n",
    "\n",
    "df = pd.read_csv(\"https://content.codecademy.com/programs/data-science-path/linear_regression/honeyproduction.csv\")\n",
    "\n",
    "# Checking the DataFrame:\n",
    "print(df.head())\n",
    "\n",
    "# Finding the mean of totalprod per year:\n",
    "prod_per_year = df.groupby('year').totalprod.mean().reset_index()\n",
    "\n",
    "# Assigning the year column to X:\n",
    "X = prod_per_year.year\n",
    "X = X.values.reshape(-1, 1)\n",
    "\n",
    "# Assigning the totalprod column to y:\n",
    "y = prod_per_year.totalprod\n",
    "\n",
    "# Plotting a scatter plot between X and y:\n",
    "plt.scatter(X, y)\n",
    "\n",
    "# Create and Fit a Linear Regression Model:\n",
    "regr = linear_model.LinearRegression()\n",
    "regr.fit(X,y)\n",
    "\n",
    "# printing the slope and intercept of the line:\n",
    "print(regr.coef_)\n",
    "print(regr.intercept_)\n",
    "\n",
    "# Getting the prediction linear model made on X:\n",
    "y_predict = regr.predict(X)\n",
    "plt.plot(X, y_predict)\n",
    "plt.show()\n",
    "\n",
    "# Predicting honey production for future years:\n",
    "X_future = np.array(range(2013, 2051))\n",
    "X_future = X_future.reshape(-1, 1)\n",
    "\n",
    "future_predict = regr.predict(X_future)\n",
    "\n",
    "# Plotting future_predict against X_future:\n",
    "plt.clf()\n",
    "plt.plot(X_future, future_predict)\n",
    "plt.show()"
   ]
  },
  {
   "cell_type": "code",
   "execution_count": null,
   "id": "969eec1b",
   "metadata": {},
   "outputs": [],
   "source": []
  }
 ],
 "metadata": {
  "kernelspec": {
   "display_name": "Python 3",
   "language": "python",
   "name": "python3"
  },
  "language_info": {
   "codemirror_mode": {
    "name": "ipython",
    "version": 3
   },
   "file_extension": ".py",
   "mimetype": "text/x-python",
   "name": "python",
   "nbconvert_exporter": "python",
   "pygments_lexer": "ipython3",
   "version": "3.9.1"
  }
 },
 "nbformat": 4,
 "nbformat_minor": 5
}
