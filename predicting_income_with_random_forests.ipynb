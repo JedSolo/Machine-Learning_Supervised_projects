{
 "cells": [
  {
   "cell_type": "code",
   "execution_count": 28,
   "id": "d79b4f29",
   "metadata": {},
   "outputs": [
    {
     "name": "stdout",
     "output_type": "stream",
     "text": [
      "age                          39\n",
      "workclass             State-gov\n",
      "fnlwgt                    77516\n",
      "education             Bachelors\n",
      "education-num                13\n",
      "marital-status    Never-married\n",
      "occupation         Adm-clerical\n",
      "relationship      Not-in-family\n",
      "race                      White\n",
      "sex                        Male\n",
      "capital-gain               2174\n",
      "capital-loss                  0\n",
      "hours-per-week               40\n",
      "native-country    United-States\n",
      "income                    <=50K\n",
      "Name: 0, dtype: object\n",
      "Test Score: 0.8225033779633951\n",
      "[0.31351874 0.29270793 0.11745457 0.20309968 0.0643516  0.00886747]\n"
     ]
    }
   ],
   "source": [
    "def warn(*args, **kwargs):\n",
    "    pass\n",
    "import warnings\n",
    "warnings.warn = warn\n",
    "\n",
    "import pandas as pd\n",
    "from sklearn.model_selection import train_test_split\n",
    "from sklearn import tree\n",
    "from sklearn.ensemble import RandomForestClassifier\n",
    "\n",
    "#Investigating the Data:\n",
    "income_data = pd.read_csv('income.csv', header = 0, delimiter = \", \")\n",
    "income_data.head()\n",
    "\n",
    "print(income_data.iloc[0])\n",
    "income_data['sex'] = income_data['sex'].map({'Male':0, 'Female':1})\n",
    "\n",
    "# Checking for the different values in the native-country column:\n",
    "# print(income_data['native-country'].value_counts())\n",
    "income_data[\"country_int\"] = income_data[\"native-country\"].apply(lambda row: 0 if row == 'United-States' else 1)\n",
    "\n",
    "# Formatting the Data for Scikit-Learn:\n",
    "# Getting the labels:\n",
    "labels = income_data[['income']]\n",
    "\n",
    "#Getting our features for the model:\n",
    "data = income_data[['age', 'capital-gain', 'capital-loss', 'hours-per-week', 'sex', 'country_int']]\n",
    "\n",
    "# Splitting our data and label into training set and test set:\n",
    "train_data, test_data, train_labels, test_labels = train_test_split(data, labels, random_state=1)\n",
    "\n",
    "# Creating a Random Forest model:\n",
    "forest = RandomForestClassifier(random_state = 1)\n",
    "forest.fit(train_data, train_labels)\n",
    "\n",
    "# Checking the accuracy of our model:\n",
    "print('Test Score:', forest.score(test_data, test_labels))\n",
    "\n",
    "print(forest.feature_importances_)"
   ]
  },
  {
   "cell_type": "code",
   "execution_count": null,
   "id": "e0d8258c",
   "metadata": {},
   "outputs": [],
   "source": []
  }
 ],
 "metadata": {
  "kernelspec": {
   "display_name": "Python 3",
   "language": "python",
   "name": "python3"
  },
  "language_info": {
   "codemirror_mode": {
    "name": "ipython",
    "version": 3
   },
   "file_extension": ".py",
   "mimetype": "text/x-python",
   "name": "python",
   "nbconvert_exporter": "python",
   "pygments_lexer": "ipython3",
   "version": "3.8.8"
  }
 },
 "nbformat": 4,
 "nbformat_minor": 5
}
