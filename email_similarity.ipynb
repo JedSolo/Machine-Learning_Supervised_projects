{
 "cells": [
  {
   "cell_type": "code",
   "execution_count": 2,
   "id": "3872e60b",
   "metadata": {},
   "outputs": [
    {
     "name": "stdout",
     "output_type": "stream",
     "text": [
      "['alt.atheism', 'comp.graphics', 'comp.os.ms-windows.misc', 'comp.sys.ibm.pc.hardware', 'comp.sys.mac.hardware', 'comp.windows.x', 'misc.forsale', 'rec.autos', 'rec.motorcycles', 'rec.sport.baseball', 'rec.sport.hockey', 'sci.crypt', 'sci.electronics', 'sci.med', 'sci.space', 'soc.religion.christian', 'talk.politics.guns', 'talk.politics.mideast', 'talk.politics.misc', 'talk.religion.misc']\n",
      "From: begolej@csgrad.cs.vt.edu (James Begole)\n",
      "Subject: 16MB ISA limit?\n",
      "Organization: VPI&SU Computer Science Department, Blacksburg, VA\n",
      "Lines: 13\n",
      "\n",
      "I was just reading in PC Magazine that the peripherals in a PC with an\n",
      "ISA bus can only access 16MB of memory.  Also, that some video cards on\n",
      "the ISA bus look for a memory aperture to map their memory to.  So that\n",
      "if I wanted to put 16MB of memory on my PC, my video card wouldn't have\n",
      "anywhere to map it's memory to.\n",
      "\n",
      "Can someone explain this in more detail.  Is there a way around this\n",
      "limit.\n",
      "\n",
      "If you email me a response, I will summarize.\n",
      "\t-Bo\tbegolej@csgrad.cs.vt.edu\n",
      "-- \n",
      "\t--James \"Bo\" Begole\t\tbegolej@csgrad.cs.vt.edu\n",
      "\n",
      "0\n",
      "test Score 0.9723618090452262\n"
     ]
    }
   ],
   "source": [
    "from sklearn.datasets import fetch_20newsgroups\n",
    "from sklearn.naive_bayes import MultinomialNB\n",
    "from sklearn.feature_extraction.text import CountVectorizer\n",
    "\n",
    "emails = fetch_20newsgroups()\n",
    "\n",
    "# EXploring the Data:\n",
    "print(emails.target_names)\n",
    "\n",
    "emails = fetch_20newsgroups(categories = ['comp.sys.ibm.pc.hardware','rec.sport.hockey', 'soc.religion.christian', 'talk.politics.mideast'])\n",
    "\n",
    "print(emails.data[5])\n",
    "print(emails.target[5])\n",
    "\n",
    "# Making the Training and Test Sets:\n",
    "train_emails = fetch_20newsgroups(categories = ['rec.sport.baseball', 'rec.sport.hockey'], subset = 'train', shuffle = True, random_state = 108)\n",
    "\n",
    "test_emails = fetch_20newsgroups(categories = ['rec.sport.baseball', 'rec.sport.hockey'], subset = 'test', shuffle = True, random_state = 108)\n",
    "\n",
    "# Counting Words:\n",
    "counter = CountVectorizer()\n",
    "counter.fit(test_emails.data + train_emails.data)\n",
    "\n",
    "# Making a list of counts of words in our training set and test set:\n",
    "train_counts = counter.transform(train_emails.data)\n",
    "test_counts = counter.transform(test_emails.data)\n",
    "\n",
    "# Making a Naive Bayes Classifier:\n",
    "classifier = MultinomialNB()\n",
    "classifier.fit(train_counts, train_emails.target)\n",
    "\n",
    "# Checking the accuracy of our classifier:\n",
    "print('test Score', classifier.score(test_counts, test_emails.target))\n"
   ]
  },
  {
   "cell_type": "code",
   "execution_count": null,
   "id": "7a9ba280",
   "metadata": {},
   "outputs": [],
   "source": []
  }
 ],
 "metadata": {
  "kernelspec": {
   "display_name": "Python 3",
   "language": "python",
   "name": "python3"
  },
  "language_info": {
   "codemirror_mode": {
    "name": "ipython",
    "version": 3
   },
   "file_extension": ".py",
   "mimetype": "text/x-python",
   "name": "python",
   "nbconvert_exporter": "python",
   "pygments_lexer": "ipython3",
   "version": "3.8.8"
  }
 },
 "nbformat": 4,
 "nbformat_minor": 5
}
