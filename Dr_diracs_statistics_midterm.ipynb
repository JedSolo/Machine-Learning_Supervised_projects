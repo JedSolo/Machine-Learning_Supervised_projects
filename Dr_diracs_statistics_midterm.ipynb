{
 "cells": [
  {
   "cell_type": "code",
   "execution_count": 3,
   "id": "379f17ed",
   "metadata": {},
   "outputs": [
    {
     "name": "stdout",
     "output_type": "stream",
     "text": [
      "0.8644067796610169\n"
     ]
    }
   ],
   "source": [
    "import numpy as np\n",
    "\n",
    "# phrasing our question as P(A|B):\n",
    "# A = knows the matarial\n",
    "# B = answers correctly\n",
    "\n",
    "# probability that the student knows the material:\n",
    "p_knows_the_material = 0.60\n",
    "\n",
    "# probability that a student answers correctly given she knows the material:\n",
    "p_correct_answer_given_knows_material = 1 - 0.15\n",
    "\n",
    "# probability of any student answering correctly:\n",
    "p_correct_answer = (0.85 * 0.60) + (0.20 * 0.40)\n",
    "\n",
    "# Using Bayes Theorem to calculate probability that a student knows the material given he answers correctly:\n",
    "p_knows_material_given_correct_answer = (p_correct_answer_given_knows_material * p_knows_the_material) / p_correct_answer\n",
    "\n",
    "print(p_knows_material_given_correct_answer)"
   ]
  },
  {
   "cell_type": "code",
   "execution_count": null,
   "id": "80fc6373",
   "metadata": {},
   "outputs": [],
   "source": []
  }
 ],
 "metadata": {
  "kernelspec": {
   "display_name": "Python 3",
   "language": "python",
   "name": "python3"
  },
  "language_info": {
   "codemirror_mode": {
    "name": "ipython",
    "version": 3
   },
   "file_extension": ".py",
   "mimetype": "text/x-python",
   "name": "python",
   "nbconvert_exporter": "python",
   "pygments_lexer": "ipython3",
   "version": "3.8.8"
  }
 },
 "nbformat": 4,
 "nbformat_minor": 5
}
