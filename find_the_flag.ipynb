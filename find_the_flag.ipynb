{
 "cells": [
  {
   "cell_type": "code",
   "execution_count": 1,
   "id": "410b9527",
   "metadata": {},
   "outputs": [
    {
     "name": "stdout",
     "output_type": "stream",
     "text": [
      "Index(['Name', 'Landmass', 'Zone', 'Area', 'Population', 'Language',\n",
      "       'Religion', 'Bars', 'Stripes', 'Colors', 'Red', 'Green', 'Blue', 'Gold',\n",
      "       'White', 'Black', 'Orange', 'Mainhue', 'Circles', 'Crosses', 'Saltires',\n",
      "       'Quarters', 'Sunstars', 'Crescent', 'Triangle', 'Icon', 'Animate',\n",
      "       'Text', 'Topleft', 'Botright'],\n",
      "      dtype='object')\n",
      "              Name  Landmass  Zone  Area  Population  Language  Religion  \\\n",
      "0      Afghanistan         5     1   648          16        10         2   \n",
      "1          Albania         3     1    29           3         6         6   \n",
      "2          Algeria         4     1  2388          20         8         2   \n",
      "3   American-Samoa         6     3     0           0         1         1   \n",
      "4          Andorra         3     1     0           0         6         0   \n",
      "5           Angola         4     2  1247           7        10         5   \n",
      "6         Anguilla         1     4     0           0         1         1   \n",
      "7  Antigua-Barbuda         1     4     0           0         1         1   \n",
      "8        Argentina         2     3  2777          28         2         0   \n",
      "9        Argentine         2     3  2777          28         2         0   \n",
      "\n",
      "   Bars  Stripes  Colors  ...  Saltires  Quarters  Sunstars  Crescent  \\\n",
      "0     0        3       5  ...         0         0         1         0   \n",
      "1     0        0       3  ...         0         0         1         0   \n",
      "2     2        0       3  ...         0         0         1         1   \n",
      "3     0        0       5  ...         0         0         0         0   \n",
      "4     3        0       3  ...         0         0         0         0   \n",
      "5     0        2       3  ...         0         0         1         0   \n",
      "6     0        1       3  ...         0         0         0         0   \n",
      "7     0        1       5  ...         0         0         1         0   \n",
      "8     0        3       2  ...         0         0         0         0   \n",
      "9     0        3       3  ...         0         0         1         0   \n",
      "\n",
      "   Triangle  Icon  Animate Text  Topleft  Botright  \n",
      "0         0     1        0    0    black     green  \n",
      "1         0     0        1    0      red       red  \n",
      "2         0     0        0    0    green     white  \n",
      "3         1     1        1    0     blue       red  \n",
      "4         0     0        0    0     blue       red  \n",
      "5         0     1        0    0      red     black  \n",
      "6         0     0        1    0    white      blue  \n",
      "7         1     0        0    0    black       red  \n",
      "8         0     0        0    0     blue      blue  \n",
      "9         0     0        0    0     blue      blue  \n",
      "\n",
      "[10 rows x 30 columns]\n"
     ]
    },
    {
     "data": {
      "image/png": "[encoded data removed]",
      "text/plain": [
       "<Figure size 432x288 with 1 Axes>"
      ]
     },
     "metadata": {
      "needs_background": "light"
     },
     "output_type": "display_data"
    }
   ],
   "source": [
    "#import codecademylib3_seaborn\n",
    "import pandas as pd\n",
    "from sklearn.model_selection import train_test_split\n",
    "from sklearn.tree import DecisionTreeClassifier\n",
    "import matplotlib.pyplot as plt\n",
    "\n",
    "# Investigating the Data:\n",
    "flags = pd.read_csv('flags.csv', header = 0)\n",
    "print(flags.columns)\n",
    "print(flags.head(10))\n",
    "\n",
    "# Creating the Data and Labels:\n",
    "labels = flags[['Landmass']]\n",
    "data = flags[[\"Red\", \"Green\", \"Blue\", \"Gold\",\n",
    " \"White\", \"Black\", \"Orange\",\n",
    " \"Circles\",\n",
    "\"Crosses\",\"Saltires\",\"Quarters\",\"Sunstars\",\n",
    "\"Crescent\",\"Triangle\"]]\n",
    "\n",
    "# Spitting our DataFrames into training_set and  test set:\n",
    "train_data, test_data, train_labels, test_labels = train_test_split(data, labels, random_state = 1)\n",
    "\n",
    "# Making and testing the Model:\n",
    "scores = []\n",
    "for i in range(1, 21):\n",
    "  tree = DecisionTreeClassifier(random_state = 1, max_depth = i)\n",
    "  tree.fit(train_data, train_labels)\n",
    "\n",
    "# Checking the accuracy of the model:\n",
    "  scores.append(tree.score(test_data, test_labels))\n",
    "\n",
    "# plotting the max_depth against scores:\n",
    "plt.plot(range(1, 21), scores, marker = 's')\n",
    "plt.show()"
   ]
  },
  {
   "cell_type": "code",
   "execution_count": null,
   "id": "071dc637",
   "metadata": {},
   "outputs": [],
   "source": []
  }
 ],
 "metadata": {
  "kernelspec": {
   "display_name": "Python 3",
   "language": "python",
   "name": "python3"
  },
  "language_info": {
   "codemirror_mode": {
    "name": "ipython",
    "version": 3
   },
   "file_extension": ".py",
   "mimetype": "text/x-python",
   "name": "python",
   "nbconvert_exporter": "python",
   "pygments_lexer": "ipython3",
   "version": "3.8.8"
  }
 },
 "nbformat": 4,
 "nbformat_minor": 5
}
